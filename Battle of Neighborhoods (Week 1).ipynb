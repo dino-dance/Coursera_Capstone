{
 "cells": [
  {
   "cell_type": "markdown",
   "metadata": {},
   "source": [
    "# Battle of neighborhoods"
   ]
  },
  {
   "cell_type": "markdown",
   "metadata": {},
   "source": [
    "## Find the best Mexican restaurants"
   ]
  },
  {
   "cell_type": "markdown",
   "metadata": {},
   "source": [
    "### Introduction/Business Problem"
   ]
  },
  {
   "cell_type": "markdown",
   "metadata": {},
   "source": [
    "New York is the restaurant capital of the world. Just consider there are 24,000 eating establishments in Manhattan alone.\n",
    "Opening a New York City restaurant takes daring, talent, and investors. While the fine-dining stalwarts continue to thrive, the heart of the market right now is food with immigrant roots. From casual Chinese in the East Village to home-style Indian in Queens and Michelin-star Mexican in Brooklyn. \n",
    "\n",
    "According to a recent study of American eating preferences by YouGov, the British-based market research and data analytics company, it’s our second-favorite international cuisine, after Italian. Further evidence is given by DoorDash, the nation’s number-one food delivery service, which revealed that some Mexican dishes are among 2019’s 15 most popular food orders in America.\n",
    "\n",
    "This report explores which neighborhoods and boroughs of New York City have the most as well as the best Mexican restaurants. Additionally, I will attempt to answer the questions “Where should I open a Mexican Restaurant?” and “Where should I stay if I want great Mexican food?”"
   ]
  },
  {
   "cell_type": "markdown",
   "metadata": {},
   "source": [
    "**Data**"
   ]
  },
  {
   "cell_type": "markdown",
   "metadata": {},
   "source": [
    "Data In order to answer the above questions, data on New York City neighborhoods, boroughs to include boundaries, latitude, longitude, restaurants, and restaurant ratings and tips are required.\n",
    "\n",
    "New York City data containing the neighborhoods and boroughs, latitudes, and longitudes will be obtained from the data source: https://cocl.us/new_york_dataset\n",
    "\n",
    "New York City data containing neighborhood boundaries will be obtained from the data source: https://data.cityofnewyork.us/City-Government/Borough-Boundaries/tqmj-j8zm\n",
    "\n",
    "All data related to locations and quality of Mexican restaurants will be obtained via the FourSquare API utilized via the Request library in Python."
   ]
  },
  {
   "cell_type": "markdown",
   "metadata": {},
   "source": [
    "**Methodology**"
   ]
  },
  {
   "cell_type": "markdown",
   "metadata": {},
   "source": [
    "Data will be collected from https://cocl.us/new_york_dataset and cleaned and processed into a dataframe.\n",
    "\n",
    "FourSquare be used to locate all venues and then filtered by French restaurants. Ratings, tips, and likes by users will be counted and added to the dataframe.\n",
    "\n",
    "Data will be sorted based on rankings.\n",
    "\n",
    "Finally, the data be will be visually assessed using graphing from various Python libraries."
   ]
  },
  {
   "cell_type": "code",
   "execution_count": null,
   "metadata": {},
   "outputs": [],
   "source": []
  }
 ],
 "metadata": {
  "kernelspec": {
   "display_name": "Python 3",
   "language": "python",
   "name": "python3"
  },
  "language_info": {
   "codemirror_mode": {
    "name": "ipython",
    "version": 3
   },
   "file_extension": ".py",
   "mimetype": "text/x-python",
   "name": "python",
   "nbconvert_exporter": "python",
   "pygments_lexer": "ipython3",
   "version": "3.8.5"
  }
 },
 "nbformat": 4,
 "nbformat_minor": 4
}
